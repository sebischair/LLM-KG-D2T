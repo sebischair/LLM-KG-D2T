{
 "cells": [
  {
   "cell_type": "markdown",
   "id": "a44b30a7",
   "metadata": {},
   "source": [
    "## Human Evaluation"
   ]
  },
  {
   "cell_type": "code",
   "execution_count": null,
   "id": "44711f12",
   "metadata": {},
   "outputs": [],
   "source": [
    "import os\n",
    "import pandas as pd\n",
    "\n",
    "# get the current directory\n",
    "current_directory = os.getcwd()\n",
    "\n",
    "file_ending = \"zero_pp\"\n",
    "\n",
    "# list all CSV files in the current directory\n",
    "csv_files = [file for file in os.listdir(current_directory) if file.endswith(file_ending +'.csv')]\n",
    "\n",
    "# initialize dictionary to store dataframes\n",
    "dataframes = {}\n",
    "\n",
    "# read each CSV file into a separate variable\n",
    "for file in csv_files:\n",
    "    variable_name = os.path.splitext(file)[0]\n",
    "    exec(f\"{variable_name} = pd.read_csv('{file}')\")"
   ]
  },
  {
   "cell_type": "code",
   "execution_count": null,
   "id": "a54818e6",
   "metadata": {},
   "outputs": [],
   "source": [
    "print(csv_files)"
   ]
  },
  {
   "cell_type": "code",
   "execution_count": null,
   "id": "53465955",
   "metadata": {},
   "outputs": [],
   "source": [
    "# initialize the merged dataframe with the first CSV file\n",
    "merged_df = pd.read_csv(csv_files[0])\n",
    "\n",
    "suffixes = [\"_x\", \"_y\", \"_z\"]\n",
    "\n",
    "# loop through the remaining CSV files and right join them to the merged dataframe\n",
    "i = 0\n",
    "for file in csv_files[1:]:\n",
    "    # Read the CSV file into a dataframe\n",
    "    df = pd.read_csv(file)\n",
    "    \n",
    "    # perform a right join with the merged dataframe on the common column \"key_column\"\n",
    "    merged_df = merged_df.merge(df, on=\"id\", how='right', suffixes=(\"\", suffixes[i]))\n",
    "    i += 1\n"
   ]
  },
  {
   "cell_type": "code",
   "execution_count": null,
   "id": "3e056b00",
   "metadata": {},
   "outputs": [],
   "source": [
    "merged_df.head(2)"
   ]
  },
  {
   "cell_type": "code",
   "execution_count": null,
   "id": "253e4b05",
   "metadata": {},
   "outputs": [],
   "source": [
    "# list of columns for which you want to calculate the average\n",
    "columns_to_average = ['bleu_nltk_llama-7b', 'meteor_llama-7b', 'bleu_nltk_vicuna-7b', 'meteor_vicuna-7b', 'bleu_nltk_gpt-3.5-turbo-0613', 'meteor_gpt-3.5-turbo-0613', 'bleu_nltk_lora-7b', 'meteor_lora-7b']  # Replace with your column names\n",
    "\n",
    "# calculate the row-wise average and add it as a new column\n",
    "merged_df['average'] = merged_df[columns_to_average].mean(axis=1)\n",
    "\n",
    "\n",
    "# specify the output Excel file name\n",
    "output_excel_file = 'merged_data_' + file_ending +'_v02.xlsx'\n",
    "\n",
    "# write the merged dataframe to an Excel file\n",
    "merged_df.to_excel(output_excel_file, index=False)"
   ]
  },
  {
   "cell_type": "code",
   "execution_count": null,
   "id": "d87f2fa6",
   "metadata": {},
   "outputs": [],
   "source": [
    "file_name = \"labeled_data_few_pp.xlsx\"\n",
    "labeled_df = pd.read_excel(file_name)\n",
    "\n",
    "# replace NaN values with empty strings\n",
    "labeled_df = labeled_df.fillna('')\n",
    "\n",
    "# iterate through each model and print metrics\n",
    "for model in [\"lora\", \"gpt\", \"llama\", \"vicuna\"]:\n",
    "    letter_counts = {}\n",
    "    for text in labeled_df[model]:\n",
    "        for letter in text:\n",
    "            if letter in letter_counts:\n",
    "                letter_counts[letter] += 1\n",
    "            else:\n",
    "                letter_counts[letter] = 1\n",
    "    print(file_name)\n",
    "    print(\"issue type distribution of\", model)\n",
    "    for key in letter_counts:\n",
    "        print(key, \":\", letter_counts[key], \":\", letter_counts[key]/150, \":\", letter_counts[key]/(150 - (letter_counts[\"o\"] if \"o\" in letter_counts else 0)))\n",
    "    print(\"...\"*10)"
   ]
  },
  {
   "cell_type": "code",
   "execution_count": null,
   "id": "023a449a",
   "metadata": {},
   "outputs": [],
   "source": [
    "file_name = \"labeled_data_zero_pp.xlsx\"\n",
    "labeled_df = pd.read_excel(file_name)\n",
    "\n",
    "# replace NaN values with empty strings\n",
    "labeled_df = labeled_df.fillna('')\n",
    "\n",
    "# iterate through each model and print metrics\n",
    "for model in [\"lora\", \"gpt\", \"llama\", \"vicuna\"]:\n",
    "    letter_counts = {}\n",
    "    for text in labeled_df[model]:\n",
    "        for letter in text:\n",
    "            if letter in letter_counts:\n",
    "                letter_counts[letter] += 1\n",
    "            else:\n",
    "                letter_counts[letter] = 1\n",
    "    print(file_name)\n",
    "    print(\"issue type distribution of\", model)\n",
    "    for key in letter_counts:\n",
    "        print(key, \":\", letter_counts[key], \":\", letter_counts[key]/150, \":\", letter_counts[key]/(150 - (letter_counts[\"o\"] if \"o\" in letter_counts else 0)))\n",
    "    print(\"...\"*10)"
   ]
  },
  {
   "cell_type": "code",
   "execution_count": null,
   "id": "79ab0e13",
   "metadata": {},
   "outputs": [],
   "source": []
  }
 ],
 "metadata": {
  "kernelspec": {
   "display_name": "Python 3 (ipykernel)",
   "language": "python",
   "name": "python3"
  },
  "language_info": {
   "codemirror_mode": {
    "name": "ipython",
    "version": 3
   },
   "file_extension": ".py",
   "mimetype": "text/x-python",
   "name": "python",
   "nbconvert_exporter": "python",
   "pygments_lexer": "ipython3",
   "version": "3.8.8"
  }
 },
 "nbformat": 4,
 "nbformat_minor": 5
}
