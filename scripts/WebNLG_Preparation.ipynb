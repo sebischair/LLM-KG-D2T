{
 "cells": [
  {
   "attachments": {},
   "cell_type": "markdown",
   "metadata": {},
   "source": [
    "# WebNLG Preparation\n",
    "\n",
    "Download [corpus-reader](https://gitlab.com/webnlg/corpus-reader)"
   ]
  },
  {
   "cell_type": "code",
   "execution_count": null,
   "metadata": {},
   "outputs": [],
   "source": [
    "!git clone https://gitlab.com/webnlg/corpus-reader.git"
   ]
  },
  {
   "attachments": {},
   "cell_type": "markdown",
   "metadata": {},
   "source": [
    "Import dependencies and define variables"
   ]
  },
  {
   "cell_type": "code",
   "execution_count": null,
   "metadata": {},
   "outputs": [],
   "source": [
    "from corpus_reader.benchmark_reader import Benchmark\n",
    "from corpus_reader.benchmark_reader import select_files\n",
    "from corpus_reader.generate_references import create_reference_files\n",
    "\n",
    "train_b = Benchmark()\n",
    "dev_b = Benchmark()\n",
    "test_b = Benchmark()\n",
    "train_files = select_files('./webnlg-dataset/release_v3.0/en/xml/train')\n",
    "dev_files = select_files('./webnlg-dataset/release_v3.0/en/xml/dev')"
   ]
  },
  {
   "attachments": {},
   "cell_type": "markdown",
   "metadata": {},
   "source": [
    "Load train set"
   ]
  },
  {
   "cell_type": "code",
   "execution_count": null,
   "metadata": {},
   "outputs": [],
   "source": [
    "train_b.fill_benchmark(train_files)\n",
    "\n",
    "print(f\"Size of train set: {train_b.entry_count()}\")"
   ]
  },
  {
   "attachments": {},
   "cell_type": "markdown",
   "metadata": {},
   "source": [
    "Convert train set to JSON"
   ]
  },
  {
   "cell_type": "code",
   "execution_count": null,
   "metadata": {},
   "outputs": [],
   "source": [
    "train_b.b2json('./webnlg-dataset/release_v3.0/en/json/train', 'train_set.json')"
   ]
  },
  {
   "attachments": {},
   "cell_type": "markdown",
   "metadata": {},
   "source": [
    "Load dev set"
   ]
  },
  {
   "cell_type": "code",
   "execution_count": null,
   "metadata": {},
   "outputs": [],
   "source": [
    "dev_b.fill_benchmark(dev_files)\n",
    "\n",
    "print(f\"Size of dev set: {dev_b.entry_count()}\")"
   ]
  },
  {
   "attachments": {},
   "cell_type": "markdown",
   "metadata": {},
   "source": [
    "Convert dev set to JSON"
   ]
  },
  {
   "cell_type": "code",
   "execution_count": null,
   "metadata": {},
   "outputs": [],
   "source": [
    "dev_b.b2json('./webnlg-dataset/release_v3.0/en/json/dev', 'v3.0_dev_set.json')"
   ]
  },
  {
   "attachments": {},
   "cell_type": "markdown",
   "metadata": {},
   "source": [
    "Convert test set to JSON"
   ]
  },
  {
   "cell_type": "code",
   "execution_count": null,
   "metadata": {},
   "outputs": [],
   "source": [
    "test_b.fill_benchmark([('./webnlg-dataset/release_v3.0/en/xml/test/', 'rdf-to-text-generation-test-data-without-refs-en.xml')])\n",
    "\n",
    "print(f\"Size of test set: {test_b.entry_count()}\")"
   ]
  },
  {
   "cell_type": "code",
   "execution_count": null,
   "metadata": {},
   "outputs": [],
   "source": [
    "test_b.b2json('./webnlg-dataset/release_v3.0/en/json/test', 'v3.0_test_set.json')"
   ]
  },
  {
   "attachments": {},
   "cell_type": "markdown",
   "metadata": {},
   "source": [
    "## Create Test Evaluation Data"
   ]
  },
  {
   "cell_type": "code",
   "execution_count": null,
   "metadata": {},
   "outputs": [],
   "source": [
    "test_eval_b = Benchmark()\n",
    "test_eval_b.fill_benchmark([('./webnlg-dataset/release_v3.0/en/xml/test/', 'rdf-to-text-generation-test-data-with-refs-en.xml')])"
   ]
  },
  {
   "cell_type": "code",
   "execution_count": null,
   "metadata": {},
   "outputs": [],
   "source": [
    "create_reference_files(test_eval_b, 'en')"
   ]
  }
 ],
 "metadata": {
  "kernelspec": {
   "display_name": "webnlg",
   "language": "python",
   "name": "python3"
  },
  "language_info": {
   "codemirror_mode": {
    "name": "ipython",
    "version": 3
   },
   "file_extension": ".py",
   "mimetype": "text/x-python",
   "name": "python",
   "nbconvert_exporter": "python",
   "pygments_lexer": "ipython3",
   "version": "3.8.8"
  }
 },
 "nbformat": 4,
 "nbformat_minor": 2
}
